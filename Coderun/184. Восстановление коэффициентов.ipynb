{
 "cells": [
  {
   "cell_type": "markdown",
   "id": "079c7a47-d33b-4715-8364-ddec502acdfb",
   "metadata": {},
   "source": [
    "### Вступление"
   ]
  },
  {
   "cell_type": "markdown",
   "id": "0a187739-c8ff-46d1-a707-d27ab2cee3d8",
   "metadata": {},
   "source": [
    "Здравствуйте, молодые люди. Это мой первый ipynb документ, который создал именно я.\n",
    "\n",
    "Так что предлагаю приступить к моим обзорам на задачи.\n",
    "\n",
    "**Приступим**"
   ]
  },
  {
   "cell_type": "markdown",
   "id": "12b32bd5-852e-40e4-8079-b3048715800f",
   "metadata": {},
   "source": [
    "### 1. Задача : \n",
    "*Coderun* - https://coderun.yandex.ru/problem/coefficients-restoration\n",
    "\n",
    "**184. Восстановление коэффициентов** "
   ]
  },
  {
   "cell_type": "markdown",
   "id": "ce5a2500-3591-41ac-8171-9f7795d9d77c",
   "metadata": {},
   "source": [
    "Если вкратце, то дана функция $f(x)=((a+\\varepsilon_{a})\\sin{x}+(b+\\varepsilon_{b})\\ln{x})^2+(c+\\varepsilon_{c})x^2$ и нужно подобрать наиболее оптимальные коэффициенты для набора точек.\n",
    "\n",
    "**Dataset = https://disk.yandex.ru/d/RXnmNGp4PZnMrg**"
   ]
  },
  {
   "cell_type": "code",
   "execution_count": 48,
   "id": "a75013b6-2faf-4020-9786-26f1ac7463e5",
   "metadata": {},
   "outputs": [
    {
     "data": {
      "text/html": [
       "<div>\n",
       "<style scoped>\n",
       "    .dataframe tbody tr th:only-of-type {\n",
       "        vertical-align: middle;\n",
       "    }\n",
       "\n",
       "    .dataframe tbody tr th {\n",
       "        vertical-align: top;\n",
       "    }\n",
       "\n",
       "    .dataframe thead th {\n",
       "        text-align: right;\n",
       "    }\n",
       "</style>\n",
       "<table border=\"1\" class=\"dataframe\">\n",
       "  <thead>\n",
       "    <tr style=\"text-align: right;\">\n",
       "      <th></th>\n",
       "      <th>X</th>\n",
       "      <th>Y</th>\n",
       "    </tr>\n",
       "  </thead>\n",
       "  <tbody>\n",
       "    <tr>\n",
       "      <th>0</th>\n",
       "      <td>9.481538</td>\n",
       "      <td>394.853787</td>\n",
       "    </tr>\n",
       "    <tr>\n",
       "      <th>1</th>\n",
       "      <td>6.878546</td>\n",
       "      <td>238.295702</td>\n",
       "    </tr>\n",
       "    <tr>\n",
       "      <th>2</th>\n",
       "      <td>9.436524</td>\n",
       "      <td>393.053669</td>\n",
       "    </tr>\n",
       "    <tr>\n",
       "      <th>3</th>\n",
       "      <td>3.572694</td>\n",
       "      <td>55.666155</td>\n",
       "    </tr>\n",
       "    <tr>\n",
       "      <th>4</th>\n",
       "      <td>1.079596</td>\n",
       "      <td>13.537515</td>\n",
       "    </tr>\n",
       "    <tr>\n",
       "      <th>...</th>\n",
       "      <td>...</td>\n",
       "      <td>...</td>\n",
       "    </tr>\n",
       "    <tr>\n",
       "      <th>995</th>\n",
       "      <td>8.714093</td>\n",
       "      <td>366.701156</td>\n",
       "    </tr>\n",
       "    <tr>\n",
       "      <th>996</th>\n",
       "      <td>3.783151</td>\n",
       "      <td>60.254649</td>\n",
       "    </tr>\n",
       "    <tr>\n",
       "      <th>997</th>\n",
       "      <td>9.104563</td>\n",
       "      <td>380.503300</td>\n",
       "    </tr>\n",
       "    <tr>\n",
       "      <th>998</th>\n",
       "      <td>1.717459</td>\n",
       "      <td>32.758233</td>\n",
       "    </tr>\n",
       "    <tr>\n",
       "      <th>999</th>\n",
       "      <td>7.288236</td>\n",
       "      <td>277.359814</td>\n",
       "    </tr>\n",
       "  </tbody>\n",
       "</table>\n",
       "<p>1000 rows × 2 columns</p>\n",
       "</div>"
      ],
      "text/plain": [
       "            X           Y\n",
       "0    9.481538  394.853787\n",
       "1    6.878546  238.295702\n",
       "2    9.436524  393.053669\n",
       "3    3.572694   55.666155\n",
       "4    1.079596   13.537515\n",
       "..        ...         ...\n",
       "995  8.714093  366.701156\n",
       "996  3.783151   60.254649\n",
       "997  9.104563  380.503300\n",
       "998  1.717459   32.758233\n",
       "999  7.288236  277.359814\n",
       "\n",
       "[1000 rows x 2 columns]"
      ]
     },
     "execution_count": 48,
     "metadata": {},
     "output_type": "execute_result"
    }
   ],
   "source": [
    "import pandas as pd\n",
    "\n",
    "data=pd.read_csv('data.csv',header=None,names=['X','Y'])\n",
    "\n",
    "data"
   ]
  },
  {
   "cell_type": "markdown",
   "id": "3aca199a-e86b-4b24-8a7d-5d0fd5f9303e",
   "metadata": {},
   "source": [
    "Решу задачу двумя способами:"
   ]
  },
  {
   "cell_type": "markdown",
   "id": "cee93735-aa8e-4026-a396-adf1daeed285",
   "metadata": {},
   "source": [
    "**1. Линейная Регрессия**"
   ]
  },
  {
   "cell_type": "markdown",
   "id": "f1e3ca90-4d08-4fe0-a343-4e4bfa046e07",
   "metadata": {},
   "source": [
    "Чтобы решить задачу линейной регрессией, предлагаю немного преобразовать нашу функцию. Так как **$\\varepsilon$** слишком мал, то его можно не учитывать.  \n",
    "**$$f(x)=((a+\\varepsilon_{a})\\sin{x}+(b+\\varepsilon_{b})\\ln{x})^2+(c+\\varepsilon_{c})x^2$$**\n",
    "**$$f(x)=(a\\sin{x}+b\\ln{x})^2+cx^2$$**\n",
    "**$$f(x)=a^2\\sin^2{x}+2ab\\sin{x}\\ln{x}+b^2\\ln^2{x}+cx^2$$**"
   ]
  },
  {
   "cell_type": "markdown",
   "id": "72d3d7c7-7135-40c1-ad71-7a0f2b3fdec2",
   "metadata": {},
   "source": [
    "Теперь всё выглядит гораздо лучше и с этим уже можно работать. \n",
    "\n",
    "Т.е благодаря тому, что мы преобразовали выражение мы теперь можем создать матрицу признаков и вектор коэффициентов.\n",
    "\n",
    "Запишем их как $X$ и $\\vec{k}$ соответственно. Из этого можно вывести уравнение:\n",
    "\n",
    "**$$X\\vec{k}=\\vec{y} \\rightarrow \\vec{k}=X^{+}\\vec{y}$$**\n",
    "\n",
    "*Небольшое примечание*: $X$ не является квадратной матрицей, поэтому тут она псевдообратная $X^{+}$ вместо обратной $X^{-1}$.\n",
    "\n",
    "\n",
    "Вот визуализация при условии, что $\\\\ \\vec{x}=x_{data}=\\begin{bmatrix} x_1\\\\ x_2\\\\\\vdots \\\\ x_{1000} \\end{bmatrix}$ и $\\\\ \\vec{y}=y_{data}=\\begin{bmatrix} y_1\\\\ y_2\\\\ \\vdots \\\\ y_{1000} \\end{bmatrix}$:\n",
    "$$\\begin{bmatrix} \\sin^2{x_1}&\\sin{x_1}\\ln{x_1}&\\ln^2{x_1}&x_1^2\\\\ \\sin^2{x_2}&\\sin{x_2}\\ln{x_2}&\\ln^2{x_2}&x_2^2 \\\\ \\vdots&\\vdots&\\vdots&\\vdots \\\\ \\sin^2{x_{1000}}&\\sin{x_{1000}}\\ln{x_{1000}}&\\ln^2{x_{1000}}&x_{1000}^2 \\end{bmatrix} \\cdot \\begin{bmatrix} a^2\\\\2ab\\\\b^2\\\\c\\end{bmatrix}=\\begin{bmatrix} y_1\\\\ y_2\\\\ \\vdots \\\\ y_{1000} \\end{bmatrix}$$\n",
    "\n",
    "\n",
    "А дальше дело за малым, как говорится"
   ]
  },
  {
   "cell_type": "code",
   "execution_count": 49,
   "id": "721ec7c4-4c00-4955-be70-19b5d7887270",
   "metadata": {},
   "outputs": [],
   "source": [
    "import numpy as np\n",
    "X=np.array([[np.sin(x)**2,np.sin(x)*np.log(x),np.log(x)**2,x**2] for x in data['X']])\n",
    "y=np.array(data['Y'])\n"
   ]
  },
  {
   "cell_type": "code",
   "execution_count": 50,
   "id": "2f4aa7a6-94ab-4043-b348-60c987cba070",
   "metadata": {},
   "outputs": [
    {
     "data": {
      "text/plain": [
       "[np.float64(9.86985872438434),\n",
       " np.float64(17.079864085982344),\n",
       " np.float64(7.389748452309528),\n",
       " np.float64(3.9999568607067806)]"
      ]
     },
     "execution_count": 50,
     "metadata": {},
     "output_type": "execute_result"
    }
   ],
   "source": [
    "k=list(np.dot(np.linalg.pinv(X),y))\n",
    "k"
   ]
  },
  {
   "cell_type": "markdown",
   "id": "d968cf08-27f4-41d0-b479-8a784d766ea8",
   "metadata": {},
   "source": [
    "Так как все наши коэффициентики уже получены, то осталось последнее действие: свести их к виду $[a,b,c]$ (то есть 2 коэффициент мы отметаем, т.к это $2ab$)"
   ]
  },
  {
   "cell_type": "code",
   "execution_count": 51,
   "id": "85b50685-6fab-481f-95ad-3c947718ba2d",
   "metadata": {},
   "outputs": [
    {
     "name": "stdout",
     "output_type": "stream",
     "text": [
      "Ответ: a = 3.14, b = 2.72, c = 4.0\n"
     ]
    }
   ],
   "source": [
    "a=round(float(k[0])**0.5,2)\n",
    "b=round(float(k[2])**0.5,2)\n",
    "c=round(float(k[3]),2)\n",
    "print(f'Ответ: a = {a}, b = {b}, c = {c}')"
   ]
  },
  {
   "cell_type": "markdown",
   "id": "63c908b9-4190-4a1f-867a-3e643bc991c2",
   "metadata": {},
   "source": [
    "На самом деле гораздо легче было взять **LinearRegression** из библиотеки *sklearn* и всё сделать:"
   ]
  },
  {
   "cell_type": "code",
   "execution_count": 52,
   "id": "fc489586-bea7-4408-9633-ec25caafb70e",
   "metadata": {},
   "outputs": [],
   "source": [
    "from sklearn.linear_model import LinearRegression"
   ]
  },
  {
   "cell_type": "markdown",
   "id": "2052f5ba-db69-4ecd-bcdf-9f0362c643de",
   "metadata": {},
   "source": [
    "Создадим и обучим модель:"
   ]
  },
  {
   "cell_type": "code",
   "execution_count": 53,
   "id": "aba65425-bdb2-42a2-9a19-70952563bd30",
   "metadata": {},
   "outputs": [
    {
     "data": {
      "text/plain": [
       "array([ 9.86985872, 17.07986409,  7.38974845,  3.99995686])"
      ]
     },
     "execution_count": 53,
     "metadata": {},
     "output_type": "execute_result"
    }
   ],
   "source": [
    "model=LinearRegression(fit_intercept=False)\n",
    "model.fit(X,y)\n",
    "model.coef_"
   ]
  },
  {
   "cell_type": "markdown",
   "id": "188bb544-d0f7-4733-81bf-b7b3530992de",
   "metadata": {},
   "source": [
    "Ну и соответственно процедура повторяется, если нам нужна красивая запись (хотя можно оставлять всегда в numpy массиве), но я это пропущу."
   ]
  },
  {
   "cell_type": "markdown",
   "id": "4627a585-ba39-409e-88b2-a18281595843",
   "metadata": {},
   "source": [
    "**2. Подгонка функции**"
   ]
  },
  {
   "cell_type": "markdown",
   "id": "b427c139-4d9f-4499-8648-4c2e4a22cfad",
   "metadata": {},
   "source": [
    "Тут я предложу использовать метод **curve_fit** из библиотеки *scipy*:"
   ]
  },
  {
   "cell_type": "code",
   "execution_count": 54,
   "id": "2f29b5f4-5ea8-46e4-9424-ff41c5481970",
   "metadata": {},
   "outputs": [
    {
     "data": {
      "text/plain": [
       "array([3.14155177, 2.71840382, 3.99996153])"
      ]
     },
     "execution_count": 54,
     "metadata": {},
     "output_type": "execute_result"
    }
   ],
   "source": [
    "from scipy.optimize import curve_fit\n",
    "X,y=data['X'],data['Y']\n",
    "def model(x,a,b,c):\n",
    "    return a**2*np.sin(x)**2+2*a*b*np.sin(x)*np.log(x)+b**2*np.log(x)**2+c*x**2\n",
    "params=curve_fit(model,X,y,[1,1,1])\n",
    "params[0]"
   ]
  },
  {
   "cell_type": "markdown",
   "id": "9f2fefb2-72df-46d6-b57b-b44d4b9f8eec",
   "metadata": {},
   "source": [
    "Проверим насколько хорошо подогналась функция:"
   ]
  },
  {
   "cell_type": "code",
   "execution_count": 55,
   "id": "dc7408cf-0379-4907-9842-751bce4fe4fc",
   "metadata": {},
   "outputs": [
    {
     "name": "stderr",
     "output_type": "stream",
     "text": [
      "C:\\Users\\TEMP.ARKDRONT\\AppData\\Local\\Temp\\ipykernel_23916\\2978900743.py:4: RuntimeWarning: divide by zero encountered in log\n",
      "  return a**2*np.sin(x)**2+2*a*b*np.sin(x)*np.log(x)+b**2*np.log(x)**2+c*x**2\n",
      "C:\\Users\\TEMP.ARKDRONT\\AppData\\Local\\Temp\\ipykernel_23916\\2978900743.py:4: RuntimeWarning: invalid value encountered in multiply\n",
      "  return a**2*np.sin(x)**2+2*a*b*np.sin(x)*np.log(x)+b**2*np.log(x)**2+c*x**2\n"
     ]
    },
    {
     "data": {
      "image/png": "[encoded data removed]",
      "text/plain": [
       "<Figure size 640x480 with 1 Axes>"
      ]
     },
     "metadata": {},
     "output_type": "display_data"
    }
   ],
   "source": [
    "import matplotlib.pyplot as plt\n",
    "X_p=np.linspace(0,max(X),1000)\n",
    "y_p=model(X_p,params[0][0],params[0][1],params[0][2])\n",
    "plt.scatter(X,y)\n",
    "plt.plot(X_p,y_p,color='red')\n",
    "plt.legend(['Изначальный датасет','Функция, которую мы подогнали'])\n",
    "plt.show()"
   ]
  },
  {
   "cell_type": "markdown",
   "id": "f1a6ffb1-322a-4a15-b29b-74ac117378b6",
   "metadata": {},
   "source": [
    "По факту мы просто задали функцию и попросили подогнать коэффициенты под Датасет."
   ]
  },
  {
   "cell_type": "code",
   "execution_count": null,
   "id": "3299d91c-7b08-4576-a20c-b50bcb75bfb1",
   "metadata": {},
   "outputs": [],
   "source": []
  }
 ],
 "metadata": {
  "kernelspec": {
   "display_name": "Python 3 (ipykernel)",
   "language": "python",
   "name": "python3"
  },
  "language_info": {
   "codemirror_mode": {
    "name": "ipython",
    "version": 3
   },
   "file_extension": ".py",
   "mimetype": "text/x-python",
   "name": "python",
   "nbconvert_exporter": "python",
   "pygments_lexer": "ipython3",
   "version": "3.12.7"
  }
 },
 "nbformat": 4,
 "nbformat_minor": 5
}
