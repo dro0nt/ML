{
 "cells": [
  {
   "cell_type": "markdown",
   "id": "99b80505-a84c-429e-898c-e2bace613143",
   "metadata": {},
   "source": [
    "## Градиентный спуск \n",
    "\n",
    "Реализация без сторонних библиотек\n"
   ]
  },
  {
   "cell_type": "markdown",
   "id": "41d7db8a-349f-4c35-988f-c5e6caccdd44",
   "metadata": {},
   "source": [
    "Пусть у нас есть некоторая функция $f:\\mathbb{X}\\rightarrow\\mathbb{R}$, и мы хотим её минимизировать, т.е: $$f(\\vec{x})\\rightarrow \\min_{\\vec{x} \\in \\mathbb{X}}$$"
   ]
  },
  {
   "cell_type": "markdown",
   "id": "8345526c-4994-42bd-b4b5-9b769d1dd707",
   "metadata": {},
   "source": [
    "Тогда на помощь нам приходит любимый градиентный спуск: $$\\vec{x}_{n+1}=\\vec{x}_n-\\alpha\\nabla{f(\\vec{x}_n)}$$"
   ]
  },
  {
   "cell_type": "markdown",
   "id": "339ff5df-b93c-4d0e-bbfb-3233e739737b",
   "metadata": {},
   "source": [
    "Сначала реализуем градиент:"
   ]
  },
  {
   "cell_type": "code",
   "execution_count": 28,
   "id": "ff69dce7-2e6c-4aa1-a4ec-5aa17d0bc2d1",
   "metadata": {},
   "outputs": [],
   "source": [
    "from typing import List\n",
    "\n",
    "def grad(f, x:List[float], eps=10**(-5))->List[float]:\n",
    "    x_dev=[]\n",
    "    for i in range(len(x)):\n",
    "        x_1,x_2=x.copy(),x.copy()\n",
    "        x_1[i]-=eps\n",
    "        x_2[i]+=eps\n",
    "        x_dev.append((f(x_2)-f(x_1))/(2*eps))\n",
    "    return x_dev"
   ]
  },
  {
   "cell_type": "markdown",
   "id": "854c691e-bf71-47bf-90e3-a45e61161c61",
   "metadata": {},
   "source": [
    "Так как я должен реализовать код без сторонних библиотек, то я решил воспользоваться геометрическим определением частной производной: $$\\frac{\\partial f}{\\partial x_i}=\\lim_{\\varepsilon \\rightarrow 0}{\\frac{f(x_1,...,x_i+\\varepsilon,...x_n)-f(x_1,...,x_i,...,x_n)}{\\varepsilon}}$$\n",
    "Но в коде немного другая реализация:\n",
    "$$\\frac{\\partial f}{\\partial x_i}=\\lim_{\\varepsilon \\rightarrow 0}{\\frac{f(x_1,...,x_i+\\varepsilon,...x_n)-f(x_1,...,x_i-\\varepsilon,...,x_n)}{2\\varepsilon}}$$\n",
    "Т.к. погрешность аппроксимации у 1 варианта $O(\\varepsilon)$, а у 2 варианта $O(\\varepsilon^2)$\n",
    "\n",
    "Теперь реализуем сам спуск:"
   ]
  },
  {
   "cell_type": "code",
   "execution_count": 29,
   "id": "98e1f974-2582-4b7a-ad5c-c65ea1b74fac",
   "metadata": {},
   "outputs": [],
   "source": [
    "def grad_desc(f,x:List[float],learning_rate=0.01,iterations=100000)->List[float]:\n",
    "    for i in range(iterations):\n",
    "        x=list(map(lambda a,l,g:a-l*g,x,len(x)*[learning_rate],grad(f,x)))\n",
    "    return [round(i,5) for i in x]"
   ]
  },
  {
   "cell_type": "markdown",
   "id": "c6774f23-b4ab-4995-b3d2-d50abc285595",
   "metadata": {},
   "source": [
    "Ну и давайте какую-нибудь функцию для проверки, например: $f(\\vec{x})=(x_1-2)^2+(x_2+3)^2$, тогда нетрудно заметить, что глобальный минимум будет находиться в точке $(2,-3)$"
   ]
  },
  {
   "cell_type": "code",
   "execution_count": 30,
   "id": "05dae30c-ff58-49ea-a53d-e16bcad7dc07",
   "metadata": {},
   "outputs": [],
   "source": [
    "def f(x:List[float])->float:\n",
    "    return (x[0] - 2)**2 + (x[1] + 3)**2"
   ]
  },
  {
   "cell_type": "markdown",
   "id": "9796e628-c8c2-435d-8041-463d7e9a779b",
   "metadata": {},
   "source": [
    "Тест"
   ]
  },
  {
   "cell_type": "code",
   "execution_count": 31,
   "id": "1681aa17-2413-4011-beed-1694403fc40d",
   "metadata": {},
   "outputs": [
    {
     "name": "stdout",
     "output_type": "stream",
     "text": [
      "[2.0, -3.0]\n"
     ]
    }
   ],
   "source": [
    "print(grad_desc(f,[1,1]))"
   ]
  },
  {
   "cell_type": "markdown",
   "id": "8b776202-936c-463f-9348-c40f48f994d0",
   "metadata": {},
   "source": [
    "Всё окей"
   ]
  }
 ],
 "metadata": {
  "kernelspec": {
   "display_name": "Python 3 (ipykernel)",
   "language": "python",
   "name": "python3"
  },
  "language_info": {
   "codemirror_mode": {
    "name": "ipython",
    "version": 3
   },
   "file_extension": ".py",
   "mimetype": "text/x-python",
   "name": "python",
   "nbconvert_exporter": "python",
   "pygments_lexer": "ipython3",
   "version": "3.12.7"
  }
 },
 "nbformat": 4,
 "nbformat_minor": 5
}
